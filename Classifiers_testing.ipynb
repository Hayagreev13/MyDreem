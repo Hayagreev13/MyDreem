{
 "cells": [
  {
   "cell_type": "code",
   "execution_count": 11,
   "id": "7d36d8bf",
   "metadata": {},
   "outputs": [],
   "source": [
    "import h5py\n",
    "import pandas as pd\n",
    "import numpy as np\n",
    "import matplotlib.pyplot as plt\n",
    "\n",
    "from sklearn.model_selection import train_test_split\n",
    "from sklearn.metrics import confusion_matrix\n",
    "from sklearn.ensemble import RandomForestClassifier\n",
    "from sklearn.ensemble import ExtraTreesClassifier\n",
    "\n",
    "import xgboost as xgb\n",
    "import lightgbm as lgb\n",
    "\n",
    "from sklearn.model_selection import cross_validate\n",
    "from sklearn.metrics import accuracy_score\n",
    "from tqdm import tqdm"
   ]
  },
  {
   "cell_type": "code",
   "execution_count": 12,
   "id": "ba424112",
   "metadata": {},
   "outputs": [],
   "source": [
    "df_train = pd.read_csv(\"features_train.csv\")\n",
    "y = pd.read_csv(\"y_train.csv\")\n",
    "df_test = pd.read_csv(\"features_test.csv\")"
   ]
  },
  {
   "cell_type": "code",
   "execution_count": 13,
   "id": "d13dc920",
   "metadata": {},
   "outputs": [],
   "source": [
    "df_train['sleep_stage'] = y['sleep_stage']\n",
    "df_train = df_train.drop(['Subject'],axis = 1)"
   ]
  },
  {
   "cell_type": "code",
   "execution_count": 14,
   "id": "ee0e3556",
   "metadata": {},
   "outputs": [
    {
     "data": {
      "text/html": [
       "<div>\n",
       "<style scoped>\n",
       "    .dataframe tbody tr th:only-of-type {\n",
       "        vertical-align: middle;\n",
       "    }\n",
       "\n",
       "    .dataframe tbody tr th {\n",
       "        vertical-align: top;\n",
       "    }\n",
       "\n",
       "    .dataframe thead th {\n",
       "        text-align: right;\n",
       "    }\n",
       "</style>\n",
       "<table border=\"1\" class=\"dataframe\">\n",
       "  <thead>\n",
       "    <tr style=\"text-align: right;\">\n",
       "      <th></th>\n",
       "      <th>index</th>\n",
       "      <th>eeg_1_Delta_DMM</th>\n",
       "      <th>eeg_1_Theta_DMM</th>\n",
       "      <th>eeg_1_Alpha_DMM</th>\n",
       "      <th>eeg_1_Beta_DMM</th>\n",
       "      <th>eeg_1_Gamma_DMM</th>\n",
       "      <th>eeg_1_Delta_Esis</th>\n",
       "      <th>eeg_1_Theta_Esis</th>\n",
       "      <th>eeg_1_Alpha_Esis</th>\n",
       "      <th>eeg_1_Beta_Esis</th>\n",
       "      <th>...</th>\n",
       "      <th>z_Variance</th>\n",
       "      <th>z_Kurtosis</th>\n",
       "      <th>z_Skewness</th>\n",
       "      <th>z_Abs_energy</th>\n",
       "      <th>z_First_quantile</th>\n",
       "      <th>z_Median</th>\n",
       "      <th>z_Third_quantile</th>\n",
       "      <th>z_IQR</th>\n",
       "      <th>z_Mode</th>\n",
       "      <th>sleep_stage</th>\n",
       "    </tr>\n",
       "  </thead>\n",
       "  <tbody>\n",
       "    <tr>\n",
       "      <th>0</th>\n",
       "      <td>0.0</td>\n",
       "      <td>1158.706171</td>\n",
       "      <td>510.518916</td>\n",
       "      <td>287.558598</td>\n",
       "      <td>519.342024</td>\n",
       "      <td>788.450376</td>\n",
       "      <td>2.967970e+08</td>\n",
       "      <td>3.831383e+07</td>\n",
       "      <td>2.535931e+07</td>\n",
       "      <td>2.252237e+07</td>\n",
       "      <td>...</td>\n",
       "      <td>4.764771e-07</td>\n",
       "      <td>3.002438</td>\n",
       "      <td>-0.563973</td>\n",
       "      <td>0.000144</td>\n",
       "      <td>-0.000248</td>\n",
       "      <td>-0.000020</td>\n",
       "      <td>0.000223</td>\n",
       "      <td>-0.000471</td>\n",
       "      <td>-0.002464</td>\n",
       "      <td>4</td>\n",
       "    </tr>\n",
       "    <tr>\n",
       "      <th>1</th>\n",
       "      <td>1.0</td>\n",
       "      <td>6801.025232</td>\n",
       "      <td>1383.689775</td>\n",
       "      <td>601.356698</td>\n",
       "      <td>463.815355</td>\n",
       "      <td>461.614623</td>\n",
       "      <td>5.191074e+10</td>\n",
       "      <td>1.555679e+09</td>\n",
       "      <td>2.649430e+08</td>\n",
       "      <td>1.342694e+08</td>\n",
       "      <td>...</td>\n",
       "      <td>8.503503e-06</td>\n",
       "      <td>1.091460</td>\n",
       "      <td>-0.706212</td>\n",
       "      <td>0.002553</td>\n",
       "      <td>-0.001404</td>\n",
       "      <td>0.000176</td>\n",
       "      <td>0.001851</td>\n",
       "      <td>-0.003255</td>\n",
       "      <td>-0.009225</td>\n",
       "      <td>2</td>\n",
       "    </tr>\n",
       "    <tr>\n",
       "      <th>2</th>\n",
       "      <td>2.0</td>\n",
       "      <td>1943.699285</td>\n",
       "      <td>461.971353</td>\n",
       "      <td>260.563843</td>\n",
       "      <td>310.722071</td>\n",
       "      <td>417.792461</td>\n",
       "      <td>1.007768e+09</td>\n",
       "      <td>8.766151e+07</td>\n",
       "      <td>2.740391e+07</td>\n",
       "      <td>2.537572e+07</td>\n",
       "      <td>...</td>\n",
       "      <td>1.299241e-05</td>\n",
       "      <td>-1.353092</td>\n",
       "      <td>0.076593</td>\n",
       "      <td>0.003899</td>\n",
       "      <td>-0.003410</td>\n",
       "      <td>-0.000084</td>\n",
       "      <td>0.003362</td>\n",
       "      <td>-0.006772</td>\n",
       "      <td>-0.005678</td>\n",
       "      <td>3</td>\n",
       "    </tr>\n",
       "    <tr>\n",
       "      <th>3</th>\n",
       "      <td>3.0</td>\n",
       "      <td>1165.221198</td>\n",
       "      <td>412.977956</td>\n",
       "      <td>299.003675</td>\n",
       "      <td>652.685782</td>\n",
       "      <td>676.331191</td>\n",
       "      <td>2.820157e+08</td>\n",
       "      <td>5.774946e+07</td>\n",
       "      <td>3.285648e+07</td>\n",
       "      <td>3.492277e+07</td>\n",
       "      <td>...</td>\n",
       "      <td>3.714148e-06</td>\n",
       "      <td>-1.390850</td>\n",
       "      <td>0.024706</td>\n",
       "      <td>0.001115</td>\n",
       "      <td>-0.001823</td>\n",
       "      <td>-0.000002</td>\n",
       "      <td>0.001885</td>\n",
       "      <td>-0.003708</td>\n",
       "      <td>-0.003166</td>\n",
       "      <td>2</td>\n",
       "    </tr>\n",
       "    <tr>\n",
       "      <th>4</th>\n",
       "      <td>4.0</td>\n",
       "      <td>1908.554998</td>\n",
       "      <td>533.369717</td>\n",
       "      <td>406.183862</td>\n",
       "      <td>412.121225</td>\n",
       "      <td>550.647584</td>\n",
       "      <td>9.447749e+08</td>\n",
       "      <td>1.121841e+08</td>\n",
       "      <td>4.072544e+07</td>\n",
       "      <td>2.379589e+07</td>\n",
       "      <td>...</td>\n",
       "      <td>1.020778e-05</td>\n",
       "      <td>-1.431659</td>\n",
       "      <td>-0.001413</td>\n",
       "      <td>0.003063</td>\n",
       "      <td>-0.002997</td>\n",
       "      <td>0.000002</td>\n",
       "      <td>0.003116</td>\n",
       "      <td>-0.006113</td>\n",
       "      <td>-0.005095</td>\n",
       "      <td>2</td>\n",
       "    </tr>\n",
       "  </tbody>\n",
       "</table>\n",
       "<p>5 rows × 332 columns</p>\n",
       "</div>"
      ],
      "text/plain": [
       "   index  eeg_1_Delta_DMM  eeg_1_Theta_DMM  eeg_1_Alpha_DMM  eeg_1_Beta_DMM  \\\n",
       "0    0.0      1158.706171       510.518916       287.558598      519.342024   \n",
       "1    1.0      6801.025232      1383.689775       601.356698      463.815355   \n",
       "2    2.0      1943.699285       461.971353       260.563843      310.722071   \n",
       "3    3.0      1165.221198       412.977956       299.003675      652.685782   \n",
       "4    4.0      1908.554998       533.369717       406.183862      412.121225   \n",
       "\n",
       "   eeg_1_Gamma_DMM  eeg_1_Delta_Esis  eeg_1_Theta_Esis  eeg_1_Alpha_Esis  \\\n",
       "0       788.450376      2.967970e+08      3.831383e+07      2.535931e+07   \n",
       "1       461.614623      5.191074e+10      1.555679e+09      2.649430e+08   \n",
       "2       417.792461      1.007768e+09      8.766151e+07      2.740391e+07   \n",
       "3       676.331191      2.820157e+08      5.774946e+07      3.285648e+07   \n",
       "4       550.647584      9.447749e+08      1.121841e+08      4.072544e+07   \n",
       "\n",
       "   eeg_1_Beta_Esis  ...    z_Variance  z_Kurtosis  z_Skewness  z_Abs_energy  \\\n",
       "0     2.252237e+07  ...  4.764771e-07    3.002438   -0.563973      0.000144   \n",
       "1     1.342694e+08  ...  8.503503e-06    1.091460   -0.706212      0.002553   \n",
       "2     2.537572e+07  ...  1.299241e-05   -1.353092    0.076593      0.003899   \n",
       "3     3.492277e+07  ...  3.714148e-06   -1.390850    0.024706      0.001115   \n",
       "4     2.379589e+07  ...  1.020778e-05   -1.431659   -0.001413      0.003063   \n",
       "\n",
       "   z_First_quantile  z_Median  z_Third_quantile     z_IQR    z_Mode  \\\n",
       "0         -0.000248 -0.000020          0.000223 -0.000471 -0.002464   \n",
       "1         -0.001404  0.000176          0.001851 -0.003255 -0.009225   \n",
       "2         -0.003410 -0.000084          0.003362 -0.006772 -0.005678   \n",
       "3         -0.001823 -0.000002          0.001885 -0.003708 -0.003166   \n",
       "4         -0.002997  0.000002          0.003116 -0.006113 -0.005095   \n",
       "\n",
       "   sleep_stage  \n",
       "0            4  \n",
       "1            2  \n",
       "2            3  \n",
       "3            2  \n",
       "4            2  \n",
       "\n",
       "[5 rows x 332 columns]"
      ]
     },
     "execution_count": 14,
     "metadata": {},
     "output_type": "execute_result"
    }
   ],
   "source": [
    "df_train.head()\n"
   ]
  },
  {
   "cell_type": "code",
   "execution_count": 15,
   "id": "8e3f0eb5",
   "metadata": {},
   "outputs": [],
   "source": [
    "X = df_train[df_train.keys()[1:331]]\n",
    "y = df_train['sleep_stage']"
   ]
  },
  {
   "cell_type": "code",
   "execution_count": 6,
   "id": "7a11be0f",
   "metadata": {},
   "outputs": [],
   "source": [
    "X_train, X_test, y_train, y_test = train_test_split(X, y, test_size=0.20, random_state=42)"
   ]
  },
  {
   "cell_type": "markdown",
   "id": "e9c551aa",
   "metadata": {},
   "source": [
    "## SVM"
   ]
  },
  {
   "cell_type": "code",
   "execution_count": 20,
   "id": "83187c0d",
   "metadata": {},
   "outputs": [
    {
     "name": "stdout",
     "output_type": "stream",
     "text": [
      "Accuracy of SVM : 0.37\n"
     ]
    }
   ],
   "source": [
    "from sklearn import svm\n",
    "model1 = svm.SVC(kernel='rbf', gamma ='auto')\n",
    "model1.fit(X_train,y_train)\n",
    "y_pred = model1.predict(X_test)\n",
    "print(\"Accuracy of SVM :\", accuracy_score(y_test, y_pred))"
   ]
  },
  {
   "cell_type": "code",
   "execution_count": 11,
   "id": "4f443bbd",
   "metadata": {},
   "outputs": [
    {
     "name": "stdout",
     "output_type": "stream",
     "text": [
      "Accuracy of Naive Bayes : 0.2653333333333333\n"
     ]
    }
   ],
   "source": [
    "from sklearn.naive_bayes import GaussianNB\n",
    "modelnb = GaussianNB()\n",
    "modelnb.fit(X_train,y_train)\n",
    "y_pred = modelnb.predict(X_test)\n",
    "print(\"Accuracy of Naive Bayes :\", accuracy_score(y_test, y_pred))"
   ]
  },
  {
   "cell_type": "code",
   "execution_count": null,
   "id": "c52110f5",
   "metadata": {},
   "outputs": [],
   "source": [
    "#CROSS VALIDATION\n",
    "cv_results = cross_validate(model1,X,y,cv=7)\n",
    "cv_results"
   ]
  },
  {
   "cell_type": "markdown",
   "id": "d4c24a1c",
   "metadata": {},
   "source": [
    "## Random Forest "
   ]
  },
  {
   "cell_type": "code",
   "execution_count": 7,
   "id": "58da7b65",
   "metadata": {},
   "outputs": [
    {
     "name": "stdout",
     "output_type": "stream",
     "text": [
      "Accuracy of SVM : 0.681\n"
     ]
    }
   ],
   "source": [
    "model2 = RandomForestClassifier(max_depth=7, random_state=0, n_estimators=30)\n",
    "model2.fit(X_train,y_train)\n",
    "y_pred = model2.predict(X_test)\n",
    "print(\"Accuracy of RF :\", accuracy_score(y_test, y_pred))"
   ]
  },
  {
   "cell_type": "code",
   "execution_count": 8,
   "id": "8b5d2015",
   "metadata": {},
   "outputs": [
    {
     "data": {
      "text/plain": [
       "{'fit_time': array([2.76333022, 3.9990449 , 3.36074877, 3.25269032, 3.94991541,\n",
       "        2.69701123, 3.94991326]),\n",
       " 'score_time': array([0.01554132, 0.0155921 , 0.02621818, 0.01609707, 0.        ,\n",
       "        0.01555109, 0.01610303]),\n",
       " 'test_score': array([0.48110126, 0.60475968, 0.67242184, 0.60149323, 0.55996267,\n",
       "        0.7125525 , 0.60550887])}"
      ]
     },
     "execution_count": 8,
     "metadata": {},
     "output_type": "execute_result"
    }
   ],
   "source": [
    "#CROSS VALIDATION\n",
    "cv_results = cross_validate(model2,X,y,cv=7)\n",
    "cv_results"
   ]
  },
  {
   "cell_type": "markdown",
   "id": "6c3dcf30",
   "metadata": {},
   "source": [
    "## Extra Trees"
   ]
  },
  {
   "cell_type": "code",
   "execution_count": 18,
   "id": "f60c7c57",
   "metadata": {},
   "outputs": [
    {
     "name": "stdout",
     "output_type": "stream",
     "text": [
      "Accuracy of Extra Trees : 0.746\n"
     ]
    }
   ],
   "source": [
    "model3 = ExtraTreesClassifier(n_estimators=240, random_state = 410)\n",
    "model3.fit(X_train,y_train)\n",
    "y_pred = model3.predict(X_test)\n",
    "print(\"Accuracy of Extra Trees :\", accuracy_score(y_test, y_pred))"
   ]
  },
  {
   "cell_type": "code",
   "execution_count": null,
   "id": "dab2b140",
   "metadata": {},
   "outputs": [],
   "source": [
    "cv_results = cross_validate(model3,X,y, cv=7)\n",
    "cv_results"
   ]
  },
  {
   "cell_type": "code",
   "execution_count": 16,
   "id": "e5090780",
   "metadata": {},
   "outputs": [],
   "source": [
    "acc_list = []\n",
    "n_list = []\n",
    "for n in range(10,500,10):\n",
    "    model3 = ExtraTreesClassifier(n_estimators=240, random_state = n)\n",
    "    model3.fit(X_train,y_train)\n",
    "    y_pred = model3.predict(X_test)\n",
    "    acc_list.append(accuracy_score(y_test, y_pred))\n",
    "    n_list.append(n)"
   ]
  },
  {
   "cell_type": "code",
   "execution_count": 17,
   "id": "7c6eece5",
   "metadata": {},
   "outputs": [
    {
     "data": {
      "image/png": "[encoded data removed]",
      "text/plain": [
       "<Figure size 432x288 with 1 Axes>"
      ]
     },
     "metadata": {
      "needs_background": "light"
     },
     "output_type": "display_data"
    }
   ],
   "source": [
    "plt.scatter(n_list, acc_list)\n",
    "plt.show()"
   ]
  },
  {
   "cell_type": "code",
   "execution_count": 21,
   "id": "056c83d4",
   "metadata": {},
   "outputs": [],
   "source": [
    "outputs_3t = model3.predict(df_test[df_test.keys()[2:]])"
   ]
  },
  {
   "cell_type": "code",
   "execution_count": 22,
   "id": "1c1e31bb",
   "metadata": {},
   "outputs": [
    {
     "data": {
      "text/html": [
       "<div>\n",
       "<style scoped>\n",
       "    .dataframe tbody tr th:only-of-type {\n",
       "        vertical-align: middle;\n",
       "    }\n",
       "\n",
       "    .dataframe tbody tr th {\n",
       "        vertical-align: top;\n",
       "    }\n",
       "\n",
       "    .dataframe thead th {\n",
       "        text-align: right;\n",
       "    }\n",
       "</style>\n",
       "<table border=\"1\" class=\"dataframe\">\n",
       "  <thead>\n",
       "    <tr style=\"text-align: right;\">\n",
       "      <th></th>\n",
       "      <th>index</th>\n",
       "      <th>sleep_stage</th>\n",
       "    </tr>\n",
       "  </thead>\n",
       "  <tbody>\n",
       "    <tr>\n",
       "      <th>0</th>\n",
       "      <td>15000</td>\n",
       "      <td>3</td>\n",
       "    </tr>\n",
       "    <tr>\n",
       "      <th>1</th>\n",
       "      <td>15001</td>\n",
       "      <td>0</td>\n",
       "    </tr>\n",
       "    <tr>\n",
       "      <th>2</th>\n",
       "      <td>15002</td>\n",
       "      <td>0</td>\n",
       "    </tr>\n",
       "    <tr>\n",
       "      <th>3</th>\n",
       "      <td>15003</td>\n",
       "      <td>3</td>\n",
       "    </tr>\n",
       "    <tr>\n",
       "      <th>4</th>\n",
       "      <td>15004</td>\n",
       "      <td>2</td>\n",
       "    </tr>\n",
       "    <tr>\n",
       "      <th>...</th>\n",
       "      <td>...</td>\n",
       "      <td>...</td>\n",
       "    </tr>\n",
       "    <tr>\n",
       "      <th>5995</th>\n",
       "      <td>20995</td>\n",
       "      <td>3</td>\n",
       "    </tr>\n",
       "    <tr>\n",
       "      <th>5996</th>\n",
       "      <td>20996</td>\n",
       "      <td>3</td>\n",
       "    </tr>\n",
       "    <tr>\n",
       "      <th>5997</th>\n",
       "      <td>20997</td>\n",
       "      <td>2</td>\n",
       "    </tr>\n",
       "    <tr>\n",
       "      <th>5998</th>\n",
       "      <td>20998</td>\n",
       "      <td>0</td>\n",
       "    </tr>\n",
       "    <tr>\n",
       "      <th>5999</th>\n",
       "      <td>20999</td>\n",
       "      <td>0</td>\n",
       "    </tr>\n",
       "  </tbody>\n",
       "</table>\n",
       "<p>6000 rows × 2 columns</p>\n",
       "</div>"
      ],
      "text/plain": [
       "      index  sleep_stage\n",
       "0     15000            3\n",
       "1     15001            0\n",
       "2     15002            0\n",
       "3     15003            3\n",
       "4     15004            2\n",
       "...     ...          ...\n",
       "5995  20995            3\n",
       "5996  20996            3\n",
       "5997  20997            2\n",
       "5998  20998            0\n",
       "5999  20999            0\n",
       "\n",
       "[6000 rows x 2 columns]"
      ]
     },
     "execution_count": 22,
     "metadata": {},
     "output_type": "execute_result"
    }
   ],
   "source": [
    "Y_dataframe = pd.DataFrame(np.arange(len(outputs_3t))+15000, columns =[\"index\"])\n",
    "Y_dataframe[\"sleep_stage\"] = outputs_3t\n",
    "Y_dataframe.to_csv(\"predictionfinal_74.csv\", index=False)\n",
    "Y_dataframe"
   ]
  },
  {
   "cell_type": "markdown",
   "id": "d24628bb",
   "metadata": {},
   "source": [
    "## Light GBM"
   ]
  },
  {
   "cell_type": "code",
   "execution_count": 23,
   "id": "0da79369",
   "metadata": {},
   "outputs": [],
   "source": [
    "# ignore warnings\n",
    "import warnings\n",
    "warnings.filterwarnings(\"ignore\")"
   ]
  },
  {
   "cell_type": "code",
   "execution_count": 24,
   "id": "3e9951fd",
   "metadata": {},
   "outputs": [
    {
     "data": {
      "text/plain": [
       "LGBMClassifier()"
      ]
     },
     "execution_count": 24,
     "metadata": {},
     "output_type": "execute_result"
    }
   ],
   "source": [
    "clf = lgb.LGBMClassifier()\n",
    "clf.fit(X_train, y_train)"
   ]
  },
  {
   "cell_type": "code",
   "execution_count": 25,
   "id": "d0c68311",
   "metadata": {},
   "outputs": [],
   "source": [
    "# predict the results\n",
    "y_pred=clf.predict(X_test)"
   ]
  },
  {
   "cell_type": "code",
   "execution_count": 26,
   "id": "8856ae5d",
   "metadata": {},
   "outputs": [
    {
     "name": "stdout",
     "output_type": "stream",
     "text": [
      "Accuracy of LGBM : 0.74\n"
     ]
    }
   ],
   "source": [
    "print(\"Accuracy of LGBM :\", accuracy_score(y_test, y_pred))"
   ]
  },
  {
   "cell_type": "code",
   "execution_count": 27,
   "id": "c2a79cf1",
   "metadata": {},
   "outputs": [
    {
     "name": "stdout",
     "output_type": "stream",
     "text": [
      "Training set score: 0.9928\n",
      "Test set score: 0.7400\n"
     ]
    }
   ],
   "source": [
    "# print the scores on training and test set\n",
    "\n",
    "print('Training set score: {:.4f}'.format(clf.score(X_train, y_train)))\n",
    "\n",
    "print('Test set score: {:.4f}'.format(clf.score(X_test, y_test)))"
   ]
  },
  {
   "cell_type": "code",
   "execution_count": 28,
   "id": "e7258360",
   "metadata": {},
   "outputs": [
    {
     "name": "stdout",
     "output_type": "stream",
     "text": [
      "Confusion matrix\n",
      "\n",
      " [[244   5  54  20  25]\n",
      " [ 13  14  74   7  22]\n",
      " [ 44   1 835 129 101]\n",
      " [ 10   0 112 667   2]\n",
      " [ 15   0 130  16 460]]\n",
      "\n",
      "True Positives(TP) =  244\n",
      "\n",
      "True Negatives(TN) =  14\n",
      "\n",
      "False Positives(FP) =  5\n",
      "\n",
      "False Negatives(FN) =  13\n"
     ]
    }
   ],
   "source": [
    "# view confusion-matrix\n",
    "# Print the Confusion Matrix and slice it into four pieces\n",
    "\n",
    "from sklearn.metrics import confusion_matrix\n",
    "cm = confusion_matrix(y_test, y_pred)\n",
    "print('Confusion matrix\\n\\n', cm)\n",
    "print('\\nTrue Positives(TP) = ', cm[0,0])\n",
    "print('\\nTrue Negatives(TN) = ', cm[1,1])\n",
    "print('\\nFalse Positives(FP) = ', cm[0,1])\n",
    "print('\\nFalse Negatives(FN) = ', cm[1,0])"
   ]
  },
  {
   "cell_type": "code",
   "execution_count": 30,
   "id": "9418181b",
   "metadata": {},
   "outputs": [
    {
     "name": "stdout",
     "output_type": "stream",
     "text": [
      "              precision    recall  f1-score   support\n",
      "\n",
      "           0       0.75      0.70      0.72       348\n",
      "           1       0.70      0.11      0.19       130\n",
      "           2       0.69      0.75      0.72      1110\n",
      "           3       0.79      0.84      0.82       791\n",
      "           4       0.75      0.74      0.75       621\n",
      "\n",
      "    accuracy                           0.74      3000\n",
      "   macro avg       0.74      0.63      0.64      3000\n",
      "weighted avg       0.74      0.74      0.73      3000\n",
      "\n"
     ]
    }
   ],
   "source": [
    "from sklearn.metrics import classification_report\n",
    "print(classification_report(y_test, y_pred))"
   ]
  },
  {
   "cell_type": "code",
   "execution_count": 7,
   "id": "6af6ddf3",
   "metadata": {},
   "outputs": [
    {
     "name": "stdout",
     "output_type": "stream",
     "text": [
      "Accuracy: 0.742 (0.011)\n",
      "Accuracy of LGBM : 0.74\n"
     ]
    }
   ],
   "source": [
    "# lightgbm for classification\n",
    "from numpy import mean\n",
    "from numpy import std\n",
    "from sklearn.datasets import make_classification\n",
    "from lightgbm import LGBMClassifier\n",
    "from sklearn.model_selection import cross_val_score\n",
    "from sklearn.model_selection import RepeatedStratifiedKFold\n",
    "from matplotlib import pyplot\n",
    "# define dataset\n",
    "#X, y = make_classification(n_samples=1000, n_features=10, n_informative=5, n_redundant=5, random_state=1)\n",
    "# evaluate the model\n",
    "model = LGBMClassifier()\n",
    "cv = RepeatedStratifiedKFold(n_splits=10, n_repeats=3, random_state=1)\n",
    "n_scores = cross_val_score(model, X, y, scoring='accuracy', cv=cv, n_jobs=-1, error_score='raise')\n",
    "print('Accuracy: %.3f (%.3f)' % (mean(n_scores), std(n_scores)))\n",
    "# fit the model on the whole dataset\n",
    "model = LGBMClassifier()\n",
    "model.fit(X_train, y_train)\n",
    "# # make a single prediction\n",
    "# row = [[2.56999479, -0.13019997, 3.16075093, -4.35936352, -1.61271951, -1.39352057, -2.48924933, -1.93094078, 3.26130366, 2.05692145]]\n",
    "y_pred = model.predict(X_test)\n",
    "# print('Prediction: %d' % yhat[0])\n",
    "print(\"Accuracy of LGBM :\", accuracy_score(y_test, y_pred))"
   ]
  },
  {
   "cell_type": "markdown",
   "id": "a4b09be3",
   "metadata": {},
   "source": [
    "## XGBoost"
   ]
  },
  {
   "cell_type": "code",
   "execution_count": 8,
   "id": "694f20b2",
   "metadata": {},
   "outputs": [
    {
     "name": "stdout",
     "output_type": "stream",
     "text": [
      "Accuracy of XGBoost : 0.742\n"
     ]
    }
   ],
   "source": [
    "from sklearn.metrics import mean_squared_error\n",
    "data_dmatrix = xgb.DMatrix(data=X,label=y)\n",
    "modelx = xgb.XGBClassifier(use_label_encoder = False, eval_metric = 'mlogloss')\n",
    "modelx.fit(X_train,y_train)\n",
    "y_pred = modelx.predict(X_test)\n",
    "print(\"Accuracy of XGBoost :\", accuracy_score(y_test, y_pred))"
   ]
  },
  {
   "cell_type": "code",
   "execution_count": 7,
   "id": "400ab124",
   "metadata": {},
   "outputs": [],
   "source": [
    "from sklearn.ensemble import VotingClassifier"
   ]
  },
  {
   "cell_type": "code",
   "execution_count": 13,
   "id": "0ac2e7c6",
   "metadata": {},
   "outputs": [],
   "source": [
    "clf1 = ExtraTreesClassifier(n_estimators=240)\n",
    "clf2 = lgb.LGBMClassifier()\n",
    "clf3 = xgb.XGBClassifier(use_label_encoder = False, eval_metric = 'mlogloss')"
   ]
  },
  {
   "cell_type": "code",
   "execution_count": 14,
   "id": "21b3b039",
   "metadata": {},
   "outputs": [
    {
     "name": "stdout",
     "output_type": "stream",
     "text": [
      "Accuracy of Voting : 0.7513333333333333\n"
     ]
    }
   ],
   "source": [
    "eclf1 = VotingClassifier(estimators=[('et', clf1), ('lgbm', clf2), ('xgb', clf3)], voting='hard')\n",
    "eclf1 = eclf1.fit(X_train, y_train)\n",
    "y_pred = eclf1.predict(X_test)\n",
    "print(\"Accuracy of Voting :\", accuracy_score(y_test, y_pred))"
   ]
  },
  {
   "cell_type": "code",
   "execution_count": 15,
   "id": "7dab73b0",
   "metadata": {},
   "outputs": [
    {
     "data": {
      "text/html": [
       "<div>\n",
       "<style scoped>\n",
       "    .dataframe tbody tr th:only-of-type {\n",
       "        vertical-align: middle;\n",
       "    }\n",
       "\n",
       "    .dataframe tbody tr th {\n",
       "        vertical-align: top;\n",
       "    }\n",
       "\n",
       "    .dataframe thead th {\n",
       "        text-align: right;\n",
       "    }\n",
       "</style>\n",
       "<table border=\"1\" class=\"dataframe\">\n",
       "  <thead>\n",
       "    <tr style=\"text-align: right;\">\n",
       "      <th></th>\n",
       "      <th>index</th>\n",
       "      <th>sleep_stage</th>\n",
       "    </tr>\n",
       "  </thead>\n",
       "  <tbody>\n",
       "    <tr>\n",
       "      <th>0</th>\n",
       "      <td>15000</td>\n",
       "      <td>2</td>\n",
       "    </tr>\n",
       "    <tr>\n",
       "      <th>1</th>\n",
       "      <td>15001</td>\n",
       "      <td>0</td>\n",
       "    </tr>\n",
       "    <tr>\n",
       "      <th>2</th>\n",
       "      <td>15002</td>\n",
       "      <td>0</td>\n",
       "    </tr>\n",
       "    <tr>\n",
       "      <th>3</th>\n",
       "      <td>15003</td>\n",
       "      <td>3</td>\n",
       "    </tr>\n",
       "    <tr>\n",
       "      <th>4</th>\n",
       "      <td>15004</td>\n",
       "      <td>2</td>\n",
       "    </tr>\n",
       "    <tr>\n",
       "      <th>...</th>\n",
       "      <td>...</td>\n",
       "      <td>...</td>\n",
       "    </tr>\n",
       "    <tr>\n",
       "      <th>5995</th>\n",
       "      <td>20995</td>\n",
       "      <td>3</td>\n",
       "    </tr>\n",
       "    <tr>\n",
       "      <th>5996</th>\n",
       "      <td>20996</td>\n",
       "      <td>3</td>\n",
       "    </tr>\n",
       "    <tr>\n",
       "      <th>5997</th>\n",
       "      <td>20997</td>\n",
       "      <td>2</td>\n",
       "    </tr>\n",
       "    <tr>\n",
       "      <th>5998</th>\n",
       "      <td>20998</td>\n",
       "      <td>0</td>\n",
       "    </tr>\n",
       "    <tr>\n",
       "      <th>5999</th>\n",
       "      <td>20999</td>\n",
       "      <td>0</td>\n",
       "    </tr>\n",
       "  </tbody>\n",
       "</table>\n",
       "<p>6000 rows × 2 columns</p>\n",
       "</div>"
      ],
      "text/plain": [
       "      index  sleep_stage\n",
       "0     15000            2\n",
       "1     15001            0\n",
       "2     15002            0\n",
       "3     15003            3\n",
       "4     15004            2\n",
       "...     ...          ...\n",
       "5995  20995            3\n",
       "5996  20996            3\n",
       "5997  20997            2\n",
       "5998  20998            0\n",
       "5999  20999            0\n",
       "\n",
       "[6000 rows x 2 columns]"
      ]
     },
     "execution_count": 15,
     "metadata": {},
     "output_type": "execute_result"
    }
   ],
   "source": [
    "outputs_3t = eclf1.predict(df_test[df_test.keys()[2:]])\n",
    "Y_dataframe = pd.DataFrame(np.arange(len(outputs_3t))+15000, columns =[\"index\"])\n",
    "Y_dataframe[\"sleep_stage\"] = outputs_3t\n",
    "Y_dataframe.to_csv(\"predictionfinal.csv\", index=False)"
   ]
  },
  {
   "cell_type": "code",
   "execution_count": 16,
   "id": "c22d0718",
   "metadata": {},
   "outputs": [
    {
     "name": "stdout",
     "output_type": "stream",
     "text": [
      "Accuracy of Voting Soft: 0.7516666666666667\n"
     ]
    }
   ],
   "source": [
    "eclf2 = VotingClassifier(estimators=[('et', clf1), ('lgbm', clf2), ('xgb', clf3)], voting='soft')\n",
    "eclf2 = eclf2.fit(X_train, y_train)\n",
    "y_pred = eclf2.predict(X_test)\n",
    "print(\"Accuracy of Voting Soft:\", accuracy_score(y_test, y_pred))"
   ]
  },
  {
   "cell_type": "code",
   "execution_count": 17,
   "id": "d51f3446",
   "metadata": {},
   "outputs": [
    {
     "name": "stdout",
     "output_type": "stream",
     "text": [
      "Accuracy of Voting Soft Weights: 0.7506666666666667\n"
     ]
    }
   ],
   "source": [
    "eclf2 = VotingClassifier(estimators=[('et', clf1), ('lgbm', clf2), ('xgb', clf3)], voting='soft', weights=[2,1,1.5], flatten_transform=True)\n",
    "eclf2 = eclf2.fit(X_train, y_train)\n",
    "y_pred = eclf2.predict(X_test)\n",
    "print(\"Accuracy of Voting Soft Weights:\", accuracy_score(y_test, y_pred))"
   ]
  },
  {
   "cell_type": "markdown",
   "id": "22eae302",
   "metadata": {},
   "source": [
    "## Optimising the classifiers"
   ]
  },
  {
   "cell_type": "markdown",
   "id": "f656cdd2",
   "metadata": {},
   "source": [
    "### Extra Trees"
   ]
  },
  {
   "cell_type": "code",
   "execution_count": null,
   "id": "6b44a948",
   "metadata": {},
   "outputs": [],
   "source": [
    "model = ExtraTreesClassifier(n_estimators=240, n_jobs=4, min_samples_split=25,\n",
    "                            min_samples_leaf=35, max_features=250)\n",
    "param_grid = {\n",
    "        #'n_estimators': [150,200,250,300,350],\n",
    "        #'max_features': [150,200,250,300,350],\n",
    "        'min_samples_leaf': range(20,50,5),\n",
    "        'min_samples_split': range(15,36,5),\n",
    "}"
   ]
  },
  {
   "cell_type": "code",
   "execution_count": 27,
   "id": "7385ddec",
   "metadata": {},
   "outputs": [
    {
     "name": "stdout",
     "output_type": "stream",
     "text": [
      "Accuracy of  ET: 0.744\n"
     ]
    }
   ],
   "source": [
    "model = ExtraTreesClassifier(n_estimators=240)\n",
    "model.fit(X_train,y_train)\n",
    "y_pred = model.predict(X_test)\n",
    "print(\"Accuracy of  ET:\", accuracy_score(y_test, y_pred))"
   ]
  },
  {
   "cell_type": "code",
   "execution_count": 22,
   "id": "aa5cfa81",
   "metadata": {},
   "outputs": [
    {
     "name": "stdout",
     "output_type": "stream",
     "text": [
      "5\n",
      "10\n",
      "15\n",
      "20\n",
      "25\n",
      "30\n",
      "35\n",
      "40\n",
      "45\n",
      "50\n",
      "55\n",
      "60\n"
     ]
    }
   ],
   "source": [
    "acc_list = []\n",
    "n_list = []\n",
    "for n in range(5,61,5):\n",
    "    print(n)\n",
    "    model3 = ExtraTreesClassifier(n_estimators=240,min_samples_leaf=n)\n",
    "    model3.fit(X_train,y_train)\n",
    "    y_pred = model3.predict(X_test)\n",
    "    acc_list.append(accuracy_score(y_test, y_pred))\n",
    "    n_list.append(n)"
   ]
  },
  {
   "cell_type": "code",
   "execution_count": 23,
   "id": "ef46b2c3",
   "metadata": {},
   "outputs": [
    {
     "data": {
      "image/png": "[encoded data removed]",
      "text/plain": [
       "<Figure size 432x288 with 1 Axes>"
      ]
     },
     "metadata": {
      "needs_background": "light"
     },
     "output_type": "display_data"
    }
   ],
   "source": [
    "plt.scatter(n_list, acc_list)\n",
    "plt.show()"
   ]
  },
  {
   "cell_type": "markdown",
   "id": "72f26da2",
   "metadata": {},
   "source": [
    "### XGBoost"
   ]
  },
  {
   "cell_type": "code",
   "execution_count": null,
   "id": "76105f01",
   "metadata": {},
   "outputs": [],
   "source": [
    "param_grid = {\n",
    "    'n_estimators': [100, 250, 400, 700, 1000],\n",
    "    'colsample_bytree': [0.7, 0.8],\n",
    "    'max_depth': [15,20,25],\n",
    "    #'reg_alpha': [1.1, 1.2, 1.3],\n",
    "    #'reg_lambda': [1.1, 1.2, 1.3],\n",
    "    #'subsample': [0.7, 0.8, 0.9]\n",
    "}\n"
   ]
  },
  {
   "cell_type": "code",
   "execution_count": 35,
   "id": "171e1a0f",
   "metadata": {},
   "outputs": [
    {
     "name": "stdout",
     "output_type": "stream",
     "text": [
      "Accuracy of XGBoost : 0.752\n"
     ]
    }
   ],
   "source": [
    "modelx = xgb.XGBClassifier(use_label_encoder = False, eval_metric = 'mlogloss',n_estimators=400)\n",
    "                           #colsample_bytree = 0.3)\n",
    "modelx.fit(X_train,y_train)\n",
    "y_pred = modelx.predict(X_test)\n",
    "print(\"Accuracy of XGBoost :\", accuracy_score(y_test, y_pred))"
   ]
  },
  {
   "cell_type": "code",
   "execution_count": null,
   "id": "43dd0cb4",
   "metadata": {},
   "outputs": [],
   "source": [
    "n_est = 400 0.752, colsamp 0.3- 0.75, "
   ]
  },
  {
   "cell_type": "code",
   "execution_count": 36,
   "id": "6cdcd202",
   "metadata": {},
   "outputs": [
    {
     "name": "stdout",
     "output_type": "stream",
     "text": [
      "10 0.7436666666666667\n",
      "20 0.7416666666666667\n",
      "30 0.7426666666666667\n",
      "40 0.741\n",
      "50 0.7453333333333333\n",
      "60 0.7453333333333333\n",
      "70 0.7453333333333333\n"
     ]
    },
    {
     "ename": "KeyboardInterrupt",
     "evalue": "",
     "output_type": "error",
     "traceback": [
      "\u001b[1;31m---------------------------------------------------------------------------\u001b[0m",
      "\u001b[1;31mKeyboardInterrupt\u001b[0m                         Traceback (most recent call last)",
      "\u001b[1;32m<ipython-input-36-20b606283ab1>\u001b[0m in \u001b[0;36m<module>\u001b[1;34m\u001b[0m\n\u001b[0;32m      3\u001b[0m \u001b[1;32mfor\u001b[0m \u001b[0mn\u001b[0m \u001b[1;32min\u001b[0m \u001b[0mrange\u001b[0m\u001b[1;33m(\u001b[0m\u001b[1;36m10\u001b[0m\u001b[1;33m,\u001b[0m\u001b[1;36m91\u001b[0m\u001b[1;33m,\u001b[0m\u001b[1;36m10\u001b[0m\u001b[1;33m)\u001b[0m\u001b[1;33m:\u001b[0m\u001b[1;33m\u001b[0m\u001b[1;33m\u001b[0m\u001b[0m\n\u001b[0;32m      4\u001b[0m     \u001b[0mmodel3\u001b[0m \u001b[1;33m=\u001b[0m \u001b[0mxgb\u001b[0m\u001b[1;33m.\u001b[0m\u001b[0mXGBClassifier\u001b[0m\u001b[1;33m(\u001b[0m\u001b[0muse_label_encoder\u001b[0m \u001b[1;33m=\u001b[0m \u001b[1;32mFalse\u001b[0m\u001b[1;33m,\u001b[0m \u001b[0meval_metric\u001b[0m \u001b[1;33m=\u001b[0m \u001b[1;34m'mlogloss'\u001b[0m\u001b[1;33m,\u001b[0m\u001b[0mn_estimators\u001b[0m\u001b[1;33m=\u001b[0m\u001b[1;36m400\u001b[0m\u001b[1;33m,\u001b[0m\u001b[0mmax_depth\u001b[0m \u001b[1;33m=\u001b[0m \u001b[0mn\u001b[0m\u001b[1;33m)\u001b[0m\u001b[1;33m\u001b[0m\u001b[1;33m\u001b[0m\u001b[0m\n\u001b[1;32m----> 5\u001b[1;33m     \u001b[0mmodel3\u001b[0m\u001b[1;33m.\u001b[0m\u001b[0mfit\u001b[0m\u001b[1;33m(\u001b[0m\u001b[0mX_train\u001b[0m\u001b[1;33m,\u001b[0m\u001b[0my_train\u001b[0m\u001b[1;33m)\u001b[0m\u001b[1;33m\u001b[0m\u001b[1;33m\u001b[0m\u001b[0m\n\u001b[0m\u001b[0;32m      6\u001b[0m     \u001b[0my_pred\u001b[0m \u001b[1;33m=\u001b[0m \u001b[0mmodel3\u001b[0m\u001b[1;33m.\u001b[0m\u001b[0mpredict\u001b[0m\u001b[1;33m(\u001b[0m\u001b[0mX_test\u001b[0m\u001b[1;33m)\u001b[0m\u001b[1;33m\u001b[0m\u001b[1;33m\u001b[0m\u001b[0m\n\u001b[0;32m      7\u001b[0m     \u001b[0macc\u001b[0m \u001b[1;33m=\u001b[0m \u001b[0maccuracy_score\u001b[0m\u001b[1;33m(\u001b[0m\u001b[0my_test\u001b[0m\u001b[1;33m,\u001b[0m \u001b[0my_pred\u001b[0m\u001b[1;33m)\u001b[0m\u001b[1;33m\u001b[0m\u001b[1;33m\u001b[0m\u001b[0m\n",
      "\u001b[1;32m~\\anaconda3\\lib\\site-packages\\xgboost\\core.py\u001b[0m in \u001b[0;36minner_f\u001b[1;34m(*args, **kwargs)\u001b[0m\n\u001b[0;32m    504\u001b[0m         \u001b[1;32mfor\u001b[0m \u001b[0mk\u001b[0m\u001b[1;33m,\u001b[0m \u001b[0marg\u001b[0m \u001b[1;32min\u001b[0m \u001b[0mzip\u001b[0m\u001b[1;33m(\u001b[0m\u001b[0msig\u001b[0m\u001b[1;33m.\u001b[0m\u001b[0mparameters\u001b[0m\u001b[1;33m,\u001b[0m \u001b[0margs\u001b[0m\u001b[1;33m)\u001b[0m\u001b[1;33m:\u001b[0m\u001b[1;33m\u001b[0m\u001b[1;33m\u001b[0m\u001b[0m\n\u001b[0;32m    505\u001b[0m             \u001b[0mkwargs\u001b[0m\u001b[1;33m[\u001b[0m\u001b[0mk\u001b[0m\u001b[1;33m]\u001b[0m \u001b[1;33m=\u001b[0m \u001b[0marg\u001b[0m\u001b[1;33m\u001b[0m\u001b[1;33m\u001b[0m\u001b[0m\n\u001b[1;32m--> 506\u001b[1;33m         \u001b[1;32mreturn\u001b[0m \u001b[0mf\u001b[0m\u001b[1;33m(\u001b[0m\u001b[1;33m**\u001b[0m\u001b[0mkwargs\u001b[0m\u001b[1;33m)\u001b[0m\u001b[1;33m\u001b[0m\u001b[1;33m\u001b[0m\u001b[0m\n\u001b[0m\u001b[0;32m    507\u001b[0m \u001b[1;33m\u001b[0m\u001b[0m\n\u001b[0;32m    508\u001b[0m     \u001b[1;32mreturn\u001b[0m \u001b[0minner_f\u001b[0m\u001b[1;33m\u001b[0m\u001b[1;33m\u001b[0m\u001b[0m\n",
      "\u001b[1;32m~\\anaconda3\\lib\\site-packages\\xgboost\\sklearn.py\u001b[0m in \u001b[0;36mfit\u001b[1;34m(self, X, y, sample_weight, base_margin, eval_set, eval_metric, early_stopping_rounds, verbose, xgb_model, sample_weight_eval_set, base_margin_eval_set, feature_weights, callbacks)\u001b[0m\n\u001b[0;32m   1248\u001b[0m         )\n\u001b[0;32m   1249\u001b[0m \u001b[1;33m\u001b[0m\u001b[0m\n\u001b[1;32m-> 1250\u001b[1;33m         self._Booster = train(\n\u001b[0m\u001b[0;32m   1251\u001b[0m             \u001b[0mparams\u001b[0m\u001b[1;33m,\u001b[0m\u001b[1;33m\u001b[0m\u001b[1;33m\u001b[0m\u001b[0m\n\u001b[0;32m   1252\u001b[0m             \u001b[0mtrain_dmatrix\u001b[0m\u001b[1;33m,\u001b[0m\u001b[1;33m\u001b[0m\u001b[1;33m\u001b[0m\u001b[0m\n",
      "\u001b[1;32m~\\anaconda3\\lib\\site-packages\\xgboost\\training.py\u001b[0m in \u001b[0;36mtrain\u001b[1;34m(params, dtrain, num_boost_round, evals, obj, feval, maximize, early_stopping_rounds, evals_result, verbose_eval, xgb_model, callbacks)\u001b[0m\n\u001b[0;32m    186\u001b[0m     \u001b[0mBooster\u001b[0m \u001b[1;33m:\u001b[0m \u001b[0ma\u001b[0m \u001b[0mtrained\u001b[0m \u001b[0mbooster\u001b[0m \u001b[0mmodel\u001b[0m\u001b[1;33m\u001b[0m\u001b[1;33m\u001b[0m\u001b[0m\n\u001b[0;32m    187\u001b[0m     \"\"\"\n\u001b[1;32m--> 188\u001b[1;33m     bst = _train_internal(params, dtrain,\n\u001b[0m\u001b[0;32m    189\u001b[0m                           \u001b[0mnum_boost_round\u001b[0m\u001b[1;33m=\u001b[0m\u001b[0mnum_boost_round\u001b[0m\u001b[1;33m,\u001b[0m\u001b[1;33m\u001b[0m\u001b[1;33m\u001b[0m\u001b[0m\n\u001b[0;32m    190\u001b[0m                           \u001b[0mevals\u001b[0m\u001b[1;33m=\u001b[0m\u001b[0mevals\u001b[0m\u001b[1;33m,\u001b[0m\u001b[1;33m\u001b[0m\u001b[1;33m\u001b[0m\u001b[0m\n",
      "\u001b[1;32m~\\anaconda3\\lib\\site-packages\\xgboost\\training.py\u001b[0m in \u001b[0;36m_train_internal\u001b[1;34m(params, dtrain, num_boost_round, evals, obj, feval, xgb_model, callbacks, evals_result, maximize, verbose_eval, early_stopping_rounds)\u001b[0m\n\u001b[0;32m     79\u001b[0m         \u001b[1;32mif\u001b[0m \u001b[0mcallbacks\u001b[0m\u001b[1;33m.\u001b[0m\u001b[0mbefore_iteration\u001b[0m\u001b[1;33m(\u001b[0m\u001b[0mbst\u001b[0m\u001b[1;33m,\u001b[0m \u001b[0mi\u001b[0m\u001b[1;33m,\u001b[0m \u001b[0mdtrain\u001b[0m\u001b[1;33m,\u001b[0m \u001b[0mevals\u001b[0m\u001b[1;33m)\u001b[0m\u001b[1;33m:\u001b[0m\u001b[1;33m\u001b[0m\u001b[1;33m\u001b[0m\u001b[0m\n\u001b[0;32m     80\u001b[0m             \u001b[1;32mbreak\u001b[0m\u001b[1;33m\u001b[0m\u001b[1;33m\u001b[0m\u001b[0m\n\u001b[1;32m---> 81\u001b[1;33m         \u001b[0mbst\u001b[0m\u001b[1;33m.\u001b[0m\u001b[0mupdate\u001b[0m\u001b[1;33m(\u001b[0m\u001b[0mdtrain\u001b[0m\u001b[1;33m,\u001b[0m \u001b[0mi\u001b[0m\u001b[1;33m,\u001b[0m \u001b[0mobj\u001b[0m\u001b[1;33m)\u001b[0m\u001b[1;33m\u001b[0m\u001b[1;33m\u001b[0m\u001b[0m\n\u001b[0m\u001b[0;32m     82\u001b[0m         \u001b[1;32mif\u001b[0m \u001b[0mcallbacks\u001b[0m\u001b[1;33m.\u001b[0m\u001b[0mafter_iteration\u001b[0m\u001b[1;33m(\u001b[0m\u001b[0mbst\u001b[0m\u001b[1;33m,\u001b[0m \u001b[0mi\u001b[0m\u001b[1;33m,\u001b[0m \u001b[0mdtrain\u001b[0m\u001b[1;33m,\u001b[0m \u001b[0mevals\u001b[0m\u001b[1;33m)\u001b[0m\u001b[1;33m:\u001b[0m\u001b[1;33m\u001b[0m\u001b[1;33m\u001b[0m\u001b[0m\n\u001b[0;32m     83\u001b[0m             \u001b[1;32mbreak\u001b[0m\u001b[1;33m\u001b[0m\u001b[1;33m\u001b[0m\u001b[0m\n",
      "\u001b[1;32m~\\anaconda3\\lib\\site-packages\\xgboost\\core.py\u001b[0m in \u001b[0;36mupdate\u001b[1;34m(self, dtrain, iteration, fobj)\u001b[0m\n\u001b[0;32m   1678\u001b[0m \u001b[1;33m\u001b[0m\u001b[0m\n\u001b[0;32m   1679\u001b[0m         \u001b[1;32mif\u001b[0m \u001b[0mfobj\u001b[0m \u001b[1;32mis\u001b[0m \u001b[1;32mNone\u001b[0m\u001b[1;33m:\u001b[0m\u001b[1;33m\u001b[0m\u001b[1;33m\u001b[0m\u001b[0m\n\u001b[1;32m-> 1680\u001b[1;33m             _check_call(_LIB.XGBoosterUpdateOneIter(self.handle,\n\u001b[0m\u001b[0;32m   1681\u001b[0m                                                     \u001b[0mctypes\u001b[0m\u001b[1;33m.\u001b[0m\u001b[0mc_int\u001b[0m\u001b[1;33m(\u001b[0m\u001b[0miteration\u001b[0m\u001b[1;33m)\u001b[0m\u001b[1;33m,\u001b[0m\u001b[1;33m\u001b[0m\u001b[1;33m\u001b[0m\u001b[0m\n\u001b[0;32m   1682\u001b[0m                                                     dtrain.handle))\n",
      "\u001b[1;31mKeyboardInterrupt\u001b[0m: "
     ]
    }
   ],
   "source": [
    "acc_list = []\n",
    "n_list = []\n",
    "for n in range(10,91,10):\n",
    "    model3 = xgb.XGBClassifier(use_label_encoder = False, eval_metric = 'mlogloss',n_estimators=400,max_depth = n)\n",
    "    model3.fit(X_train,y_train)\n",
    "    y_pred = model3.predict(X_test)\n",
    "    acc = accuracy_score(y_test, y_pred)\n",
    "    acc_list.append(acc)\n",
    "    n_list.append(n)\n",
    "    print(n,acc)"
   ]
  },
  {
   "cell_type": "code",
   "execution_count": null,
   "id": "d483137d",
   "metadata": {},
   "outputs": [],
   "source": [
    "plt.scatter(n_list, acc_list)\n",
    "plt.show()"
   ]
  },
  {
   "cell_type": "markdown",
   "id": "73881e70",
   "metadata": {},
   "source": [
    "## GridSearchCV "
   ]
  },
  {
   "cell_type": "code",
   "execution_count": null,
   "id": "3c7ddbf4",
   "metadata": {},
   "outputs": [],
   "source": [
    "#Show the evolution of the cross-validated error rate as function of C and gamma.\n",
    "# importing test data\n",
    "filename = 'Banana_test.txt'\n",
    "data_test = np.loadtxt(filename, delimiter=' ', skiprows=1, dtype= float, usecols=range(1,4))\n",
    "df_test = pd.DataFrame(data_test, columns=['X1', 'X2', 'Y'])\n",
    "X_test=df_test[['X1', 'X2']]\n",
    "y_test=df_test['Y'].values\n",
    "\n",
    "# Set the parameters by cross-validation\n",
    "tuned_parameters = [\n",
    "    {\"gamma\": [50,10,1,0.1,0.01,1e-3, 1e-4], \"C\": [0.1,1, 10, 100, 1000]}\n",
    "]\n",
    "\n",
    "scores = [\"precision\", \"recall\"]\n",
    "\n",
    "for score in scores:\n",
    "    print(\"# Tuning hyper-parameters for %s\" % score)\n",
    "    print()\n",
    "\n",
    "    clf = GridSearchCV(SVC(kernel='rbf'), tuned_parameters, scoring=\"%s_macro\" % score)\n",
    "    clf.fit(X_train, y_train)\n",
    "\n",
    "    print(\"Best parameters set found on development set:\")\n",
    "    print()\n",
    "    print(clf.best_params_)\n",
    "    print()\n",
    "    print(\"Grid scores on development set:\")\n",
    "    print()\n",
    "    means = clf.cv_results_[\"mean_test_score\"]\n",
    "    stds = clf.cv_results_[\"std_test_score\"]\n",
    "    for mean, std, params in zip(means, stds, clf.cv_results_[\"params\"]):\n",
    "        print(\"%0.3f (+/-%0.03f) for %r\" % (mean, std * 2, params))\n",
    "        Score_list.append(mean)\n",
    "        C_list.append(params['C'])\n",
    "        G_list.append(params['gamma'])\n",
    "    print()\n",
    "\n",
    "    print(\"Detailed classification report:\")\n",
    "    print()\n",
    "    print(\"The model is trained on the full development set.\")\n",
    "    print(\"The scores are computed on the full evaluation set.\")\n",
    "    print()\n",
    "    y_true, y_pred = y_test, clf.predict(X_test)\n",
    "    print(classification_report(y_true, y_pred))\n",
    "    print()"
   ]
  },
  {
   "cell_type": "code",
   "execution_count": 9,
   "id": "9bb19cf2",
   "metadata": {},
   "outputs": [],
   "source": [
    "from sklearn.model_selection import GridSearchCV\n",
    "def algorithm_pipeline(X_train_data, X_test_data, y_train_data, y_test_data, \n",
    "                       model, param_grid, cv=10, scoring_fit='neg_mean_squared_error',\n",
    "                       do_probabilities = False):\n",
    "    gs = GridSearchCV(\n",
    "        estimator=model,\n",
    "        param_grid=param_grid, \n",
    "        cv=cv, \n",
    "        n_jobs=-1, \n",
    "        scoring=scoring_fit,\n",
    "        verbose=2\n",
    "    )\n",
    "    fitted_model = gs.fit(X_train_data, y_train_data)\n",
    "    \n",
    "    if do_probabilities:\n",
    "        pred = fitted_model.predict_proba(X_test_data)\n",
    "    else:\n",
    "        pred = fitted_model.predict(X_test_data)\n",
    "    \n",
    "    return fitted_model, pred"
   ]
  },
  {
   "cell_type": "code",
   "execution_count": null,
   "id": "9deb1ace",
   "metadata": {},
   "outputs": [
    {
     "name": "stdout",
     "output_type": "stream",
     "text": [
      "Fitting 5 folds for each of 30 candidates, totalling 150 fits\n"
     ]
    }
   ],
   "source": [
    "model = ExtraTreesClassifier(n_estimators=240, n_jobs=4, min_samples_split=25,\n",
    "                            min_samples_leaf=35, max_features=250)\n",
    "param_grid = {\n",
    "        #'n_estimators': [150,200,250,300,350],\n",
    "        #'max_features': [150,200,250,300,350],\n",
    "        'min_samples_leaf': range(20,50,5),\n",
    "        'min_samples_split': range(15,36,5),\n",
    "}\n",
    "\n",
    "model, pred = algorithm_pipeline(X_train, X_test, y_train, y_test, model, \n",
    "                                 param_grid, cv=5, scoring_fit='accuracy')\n",
    "\n",
    "print(model.best_score_)\n",
    "print(model.best_params_)"
   ]
  },
  {
   "cell_type": "code",
   "execution_count": null,
   "id": "3572aaf2",
   "metadata": {},
   "outputs": [],
   "source": [
    "#Extra Tree Optimiser\n",
    "from sklearn.model_selection import GridSearchCV\n",
    "model = ExtraTreesClassifier(n_estimators=100, n_jobs=4, min_samples_split=25,\n",
    "                            min_samples_leaf=35, max_features=150)\n",
    "                            \n",
    "gsc = GridSearchCV(\n",
    "    estimator=model,\n",
    "    param_grid={\n",
    "        'n_estimators': [150,200,250,300,350],\n",
    "        'max_features': [150,200,250,300,350],\n",
    "        #'min_samples_leaf': range(20,50,5),\n",
    "        #'min_samples_split': range(15,36,5),\n",
    "    },\n",
    "    scoring='r2',\n",
    "    cv=5\n",
    ")\n",
    "\n",
    "grid_result = gsc.fit(X_train, y_train)\n",
    "\n",
    "print(\"Best: %f using %s\" % (grid_result.best_score_, grid_result.best_params_))\n",
    "\n",
    "for test_mean, train_mean, param in zip(\n",
    "        grid_result.cv_results_['mean_test_score'],\n",
    "        grid_result.cv_results_['mean_train_score'],\n",
    "        grid_result.cv_results_['params']):\n",
    "    print(\"Train: %f // Test : %f with: %r\" % (train_mean, test_mean, param))\n",
    "    "
   ]
  },
  {
   "cell_type": "code",
   "execution_count": null,
   "id": "a8492c92",
   "metadata": {},
   "outputs": [],
   "source": [
    "modelet = ExtraTreesClassifier(**grid_result.best_params_)\n",
    "modelet.fit(X_train, y_train)\n",
    "y_pred = modelet.predict(X_test)\n",
    "print(\"Accuracy of Voting Soft Weights:\", accuracy_score(y_test, y_pred))"
   ]
  },
  {
   "cell_type": "code",
   "execution_count": null,
   "id": "ae844d0e",
   "metadata": {},
   "outputs": [],
   "source": [
    "model = lgb.LGBMClassifier()\n",
    "param_grid = {\n",
    "    'n_estimators': [250, 400, 700, 1000],\n",
    "    'colsample_bytree': [0.7, 0.8],\n",
    "    #'max_depth': [15,20,25],\n",
    "    'num_leaves': [50, 100, 200],\n",
    "    #'reg_alpha': [1.1, 1.2, 1.3],\n",
    "    #'reg_lambda': [1.1, 1.2, 1.3],\n",
    "    #'min_split_gain': [0.3, 0.4],\n",
    "    #'subsample': [0.7, 0.8, 0.9],\n",
    "    #'subsample_freq': [20]\n",
    "}\n",
    "\n",
    "model, pred = algorithm_pipeline(X_train, X_test, y_train, y_test, model, \n",
    "                                 param_grid, cv=5, scoring_fit='accuracy')\n",
    "\n",
    "print(model.best_score_)\n",
    "print(model.best_params_)"
   ]
  },
  {
   "cell_type": "code",
   "execution_count": null,
   "id": "ab831bc0",
   "metadata": {},
   "outputs": [],
   "source": [
    "import xgboost as xgb\n",
    "model = xgb.XGBClassifier()\n",
    "param_grid = {\n",
    "    'n_estimators': [100, 250, 400, 700, 1000],\n",
    "    'colsample_bytree': [0.7, 0.8],\n",
    "    'max_depth': [15,20,25],\n",
    "    #'reg_alpha': [1.1, 1.2, 1.3],\n",
    "    #'reg_lambda': [1.1, 1.2, 1.3],\n",
    "    #'subsample': [0.7, 0.8, 0.9]\n",
    "}\n",
    "\n",
    "model, pred = algorithm_pipeline(X_train, X_test, y_train, y_test, model, \n",
    "                                 param_grid, cv=5)\n",
    "\n",
    "# Root Mean Squared Error\n",
    "print(np.sqrt(-model.best_score_))\n",
    "print(model.best_params_)"
   ]
  }
 ],
 "metadata": {
  "kernelspec": {
   "display_name": "Python 3 (ipykernel)",
   "language": "python",
   "name": "python3"
  },
  "language_info": {
   "codemirror_mode": {
    "name": "ipython",
    "version": 3
   },
   "file_extension": ".py",
   "mimetype": "text/x-python",
   "name": "python",
   "nbconvert_exporter": "python",
   "pygments_lexer": "ipython3",
   "version": "3.9.7"
  },
  "vscode": {
   "interpreter": {
    "hash": "58aa2379f332903eb3651e9f882b0a5c29c64a76df7303b0e4bd881d920d6646"
   }
  }
 },
 "nbformat": 4,
 "nbformat_minor": 5
}
